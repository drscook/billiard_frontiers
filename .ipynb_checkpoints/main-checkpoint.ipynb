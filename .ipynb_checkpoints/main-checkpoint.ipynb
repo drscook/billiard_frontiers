{
 "cells": [
  {
   "cell_type": "code",
   "execution_count": 7,
   "metadata": {},
   "outputs": [],
   "source": [
    "%reset -f\n",
    "%reload_ext autoreload\n",
    "import os\n",
    "\n",
    "## local\n",
    "root_path = 'c:/users/scook/documents/google drive/colab notebooks/billiards/development/v7/billiards'\n",
    "clone_repo = False\n",
    "\n",
    "## google colab\n",
    "# root_path = '/content/'\n",
    "# clone_repo = True\n",
    "\n",
    "\n",
    "if clone_repo:\n",
    "    repo_name = 'messing_around'\n",
    "    user_name = 'drscook'\n",
    "\n",
    "    repo_path = f\"{root_path}billiards/\"\n",
    "    repo_url = f\"https://github.com/{user_name}/{repo_name}.git\"\n",
    "    try:\n",
    "        os.chdir(repo_path)\n",
    "        os.system(f\"git pull\")\n",
    "        print(f\"Repo {repo_name} successfully updated\")\n",
    "    except:\n",
    "        print(f\"Could not update repo {repo_name}.  Trying to clone.\")    \n",
    "        os.system(f\"git clone {repo_url} {repo_path}\")\n",
    "\n",
    "\n",
    "\n",
    "# Import billiard defintions, utilities, and display preferences\n",
    "os.chdir(root_path)\n",
    "# with open(root_path+'/billiards/util/common_imports.py') as f: exec(f.read())\n",
    "with open('./code/imports_preferences_utilities.py') as f: exec(f.read())\n",
    "with open('./code/setup_pkgs.py') as f: exec(f.read())"
   ]
  },
  {
   "cell_type": "code",
   "execution_count": 2,
   "metadata": {},
   "outputs": [],
   "source": [
    "from billiards import *\n",
    "%autoreload 2\n",
    "# import importlib\n",
    "# importlib.reload(billiards)\n",
    "%matplotlib inline\n",
    "\n",
    "# # Most required packages included in google colab and anaconda.  Install exceptions.\n",
    "# # pytables (fast data file io)\n",
    "# try:\n",
    "#     import tables\n",
    "# except:\n",
    "#     os.system('pip install --upgrade tables')\n",
    "#     import tables\n",
    "\n",
    "\n",
    "# # numba and cuda toolkit (parallel processing)\n",
    "# try:\n",
    "#     import numba as nb\n",
    "# except:\n",
    "#     os.system('pip install --upgrade numba')\n",
    "#     import numba as nb\n",
    "# import numba.cuda as cuda\n",
    "# setup_pkgs.setup_numba_cuda()\n",
    "\n",
    "# # animations\n",
    "# setup_pkgs.setup_ffmpeg()\n",
    "\n",
    "\n",
    "seed = 42\n",
    "rng = np.random.RandomState(seed)\n",
    "\n",
    "\n",
    "dim = 3\n",
    "num_part = 10\n",
    "cell_size = np.full(dim, 10)\n",
    "part_radius = 1.0\n",
    "walls = chmbr.box(cell_size)\n",
    "\n",
    "part = Particles(dim, num_part, mass=13)"
   ]
  },
  {
   "cell_type": "code",
   "execution_count": 7,
   "metadata": {},
   "outputs": [
    {
     "ename": "TypeError",
     "evalue": "'>' not supported between instances of 'str' and 'int'",
     "output_type": "error",
     "traceback": [
      "\u001b[1;31m---------------------------------------------------------------------------\u001b[0m",
      "\u001b[1;31mTypeError\u001b[0m                                 Traceback (most recent call last)",
      "\u001b[1;32m<ipython-input-7-c444b9d5233b>\u001b[0m in \u001b[0;36m<module>\u001b[1;34m()\u001b[0m\n\u001b[0;32m      1\u001b[0m \u001b[0ms\u001b[0m \u001b[1;33m=\u001b[0m \u001b[1;34m'jell'\u001b[0m\u001b[1;33m\u001b[0m\u001b[0m\n\u001b[1;32m----> 2\u001b[1;33m \u001b[0ms\u001b[0m \u001b[1;33m>\u001b[0m \u001b[1;36m0\u001b[0m\u001b[1;33m\u001b[0m\u001b[0m\n\u001b[0m",
      "\u001b[1;31mTypeError\u001b[0m: '>' not supported between instances of 'str' and 'int'"
     ]
    }
   ],
   "source": [
    "s = 'jell'\n",
    "np.isn"
   ]
  },
  {
   "cell_type": "code",
   "execution_count": 4,
   "metadata": {},
   "outputs": [
    {
     "data": {
      "text/plain": [
       "array([0.632, 0.632, 0.632, 0.632, 0.632, 0.632, 0.632, 0.632, 0.632,\n",
       "       0.632])"
      ]
     },
     "execution_count": 4,
     "metadata": {},
     "output_type": "execute_result"
    }
   ],
   "source": [
    "part.gamma\n"
   ]
  },
  {
   "cell_type": "code",
   "execution_count": 12,
   "metadata": {},
   "outputs": [
    {
     "ename": "NameError",
     "evalue": "name 'box' is not defined",
     "output_type": "error",
     "traceback": [
      "\u001b[1;31m---------------------------------------------------------------------------\u001b[0m",
      "\u001b[1;31mNameError\u001b[0m                                 Traceback (most recent call last)",
      "\u001b[1;32m<ipython-input-12-e38c991968ba>\u001b[0m in \u001b[0;36m<module>\u001b[1;34m()\u001b[0m\n\u001b[0;32m     12\u001b[0m \u001b[0mcell_size\u001b[0m \u001b[1;33m=\u001b[0m \u001b[0mnp\u001b[0m\u001b[1;33m.\u001b[0m\u001b[0mfull\u001b[0m\u001b[1;33m(\u001b[0m\u001b[0mdim\u001b[0m\u001b[1;33m,\u001b[0m \u001b[1;36m10\u001b[0m\u001b[1;33m)\u001b[0m\u001b[1;33m\u001b[0m\u001b[0m\n\u001b[0;32m     13\u001b[0m \u001b[0mpart_radius\u001b[0m \u001b[1;33m=\u001b[0m \u001b[1;36m1.0\u001b[0m\u001b[1;33m\u001b[0m\u001b[0m\n\u001b[1;32m---> 14\u001b[1;33m \u001b[0mwalls\u001b[0m \u001b[1;33m=\u001b[0m \u001b[0mbox\u001b[0m\u001b[1;33m(\u001b[0m\u001b[0mcell_size\u001b[0m\u001b[1;33m)\u001b[0m\u001b[1;33m\u001b[0m\u001b[0m\n\u001b[0m\u001b[0;32m     15\u001b[0m \u001b[1;33m\u001b[0m\u001b[0m\n\u001b[0;32m     16\u001b[0m \u001b[1;33m\u001b[0m\u001b[0m\n",
      "\u001b[1;31mNameError\u001b[0m: name 'box' is not defined"
     ]
    }
   ],
   "source": [
    "## box\n",
    "\n",
    "max_steps = 100#100000\n",
    "num_part = 20#000\n",
    "\n",
    "mode = 'serial'\n",
    "# mode = 'parallel'\n",
    "# check_gpu_cpu = True\n",
    "same_initial_speeds = True\n",
    "\n",
    "dim = 3\n",
    "cell_size = np.full(dim, 10)\n",
    "part_radius = 1.0\n",
    "walls = box(cell_size)\n",
    "\n",
    "\n",
    "for pw_col_law in [PW_SpecularLaw, PW_NoSlipLaw]:\n",
    "    part = Particles()\n",
    "    # part.pp_collision_law = PP_IgnoreLaw()\n",
    "    # part.pp_collision_law = PP_NoSlipLaw()\n",
    "\n",
    "    part.radius[:] = part_radius\n",
    "\n",
    "    run_experiment(part, walls)"
   ]
  },
  {
   "cell_type": "code",
   "execution_count": 19,
   "metadata": {},
   "outputs": [],
   "source": [
    "from billiards.dynamics.pw_collision_laws import *\n",
    "PW"
   ]
  },
  {
   "cell_type": "code",
   "execution_count": 21,
   "metadata": {},
   "outputs": [
    {
     "data": {
      "text/plain": [
       "<function math.cos>"
      ]
     },
     "execution_count": 21,
     "metadata": {},
     "output_type": "execute_result"
    }
   ],
   "source": []
  }
 ],
 "metadata": {
  "colab": {
   "collapsed_sections": [],
   "name": "main.ipynb",
   "provenance": [],
   "version": "0.3.2"
  },
  "kernelspec": {
   "display_name": "Python 3",
   "language": "python",
   "name": "python3"
  },
  "language_info": {
   "codemirror_mode": {
    "name": "ipython",
    "version": 3
   },
   "file_extension": ".py",
   "mimetype": "text/x-python",
   "name": "python",
   "nbconvert_exporter": "python",
   "pygments_lexer": "ipython3",
   "version": "3.6.5"
  }
 },
 "nbformat": 4,
 "nbformat_minor": 1
}
